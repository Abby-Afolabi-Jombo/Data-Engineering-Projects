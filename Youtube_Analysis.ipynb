{
 "cells": [
  {
   "cell_type": "code",
   "execution_count": 1,
   "id": "2ac49197-f945-4470-b302-a3091145eec1",
   "metadata": {
    "tags": []
   },
   "outputs": [],
   "source": [
    "#import gc\n",
    "#To delete the list\n",
    "#del all_csvs[:]\n",
    "#Delete the dataframe\n",
    "#del dfs\n",
    "#Clear garbage\n",
    "#gc.collect()\n"
   ]
  },
  {
   "cell_type": "code",
   "execution_count": 2,
   "id": "fddc8a18-f85b-469c-b2ee-c4b4cd68056d",
   "metadata": {
    "tags": []
   },
   "outputs": [],
   "source": [
    "import pandas as pd\n",
    "import os\n",
    "import glob\n",
    "import numpy as np\n",
    "from datetime import datetime\n",
    "\n",
    "#To see all the file in my folder\n",
    "All_files = glob.glob(r'C:\\Users\\ajombo\\Documents\\ABISOLA\\PPP\\Data Sets\\Youtube Data\\*.csv')\n",
    "#All_files"
   ]
  },
  {
   "cell_type": "code",
   "execution_count": 3,
   "id": "a83f32e9-6b74-4cb4-85fb-ff0d12469667",
   "metadata": {
    "tags": []
   },
   "outputs": [
    {
     "name": "stdout",
     "output_type": "stream",
     "text": [
      "loading C:\\Users\\ajombo\\Documents\\ABISOLA\\PPP\\Data Sets\\Youtube Data\\Canada.csv\n",
      "loading C:\\Users\\ajombo\\Documents\\ABISOLA\\PPP\\Data Sets\\Youtube Data\\France.csv\n",
      "loading C:\\Users\\ajombo\\Documents\\ABISOLA\\PPP\\Data Sets\\Youtube Data\\Germany.csv\n",
      "loading C:\\Users\\ajombo\\Documents\\ABISOLA\\PPP\\Data Sets\\Youtube Data\\India.csv\n",
      "loading C:\\Users\\ajombo\\Documents\\ABISOLA\\PPP\\Data Sets\\Youtube Data\\Japan.csv\n",
      "loading C:\\Users\\ajombo\\Documents\\ABISOLA\\PPP\\Data Sets\\Youtube Data\\Korea.csv\n",
      "loading C:\\Users\\ajombo\\Documents\\ABISOLA\\PPP\\Data Sets\\Youtube Data\\Mexico.csv\n",
      "loading C:\\Users\\ajombo\\Documents\\ABISOLA\\PPP\\Data Sets\\Youtube Data\\Russia.csv\n",
      "loading C:\\Users\\ajombo\\Documents\\ABISOLA\\PPP\\Data Sets\\Youtube Data\\UK.csv\n",
      "loading C:\\Users\\ajombo\\Documents\\ABISOLA\\PPP\\Data Sets\\Youtube Data\\USA.csv\n"
     ]
    }
   ],
   "source": [
    "all_csvs = []\n",
    "encodings = ['utf-8','latin1','iso-8859-1','cp1252']\n",
    "\n",
    "for each_file in All_files:\n",
    "    print(f'loading {each_file}')\n",
    "    for encoding in encodings:\n",
    "        all_data = pd.read_csv(each_file, encoding=encoding, encoding_errors='replace')\n",
    "        file_name_no_ext = os.path.splitext(os.path.basename(each_file))[0]\n",
    "        all_data['Country'] = file_name_no_ext\n",
    "    \n",
    "    all_csvs.append(all_data)\n",
    "    dfs = pd.concat(all_csvs, ignore_index=True)"
   ]
  },
  {
   "cell_type": "code",
   "execution_count": 4,
   "id": "d5e19d70-dbb1-4ad3-9483-39f21987ed4e",
   "metadata": {},
   "outputs": [
    {
     "data": {
      "text/plain": [
       "10"
      ]
     },
     "execution_count": 4,
     "metadata": {},
     "output_type": "execute_result"
    }
   ],
   "source": [
    "len(all_csvs)"
   ]
  },
  {
   "cell_type": "code",
   "execution_count": 5,
   "id": "6d6727a5-69eb-4d3a-9ea4-a99d23dd503a",
   "metadata": {
    "tags": []
   },
   "outputs": [],
   "source": [
    "#df = pd.DataFrame(all_csvs)\n",
    "#dfs.info()"
   ]
  },
  {
   "cell_type": "code",
   "execution_count": 6,
   "id": "899a966b-548b-42a8-bc06-9a5debad5d19",
   "metadata": {
    "tags": []
   },
   "outputs": [],
   "source": [
    "#Data Cleaning"
   ]
  },
  {
   "cell_type": "code",
   "execution_count": 7,
   "id": "8835153e-d8e5-40d7-b6a4-94b08994a90f",
   "metadata": {},
   "outputs": [],
   "source": [
    "conditions = [\n",
    "    (dfs['category_id']==1 ),\n",
    "    (dfs['category_id']==10 ),\n",
    "    (dfs['category_id']==15 ),\n",
    "    (dfs['category_id']==17 ),\n",
    "    (dfs['category_id']==18 ),\n",
    "    (dfs['category_id']==19 ),\n",
    "    (dfs['category_id']==2 ),\n",
    "    (dfs['category_id']==20 ),\n",
    "    (dfs['category_id']==21 ),\n",
    "    (dfs['category_id']==22 ),\n",
    "    (dfs['category_id']==23 ),\n",
    "    (dfs['category_id']==24 ),\n",
    "    (dfs['category_id']==25 ),\n",
    "    (dfs['category_id']==26 ),\n",
    "    (dfs['category_id']==27 ),\n",
    "    (dfs['category_id']==28 ),\n",
    "    (dfs['category_id']==29 ),\n",
    "    (dfs['category_id']==30 ),\n",
    "    (dfs['category_id']==31 ),\n",
    "    (dfs['category_id']==32 ),\n",
    "    (dfs['category_id']==33 ),\n",
    "    (dfs['category_id']==34 ),\n",
    "    (dfs['category_id']==35 ),\n",
    "    (dfs['category_id']==36 ),\n",
    "    (dfs['category_id']==37 ),\n",
    "    (dfs['category_id']==38 ),\n",
    "    (dfs['category_id']==39 ),\n",
    "    (dfs['category_id']==40 ),\n",
    "    (dfs['category_id']==41 ),\n",
    "    (dfs['category_id']==42 ),\n",
    "    (dfs['category_id']==43 ),\n",
    "    (dfs['category_id']==44 ),\n",
    "]\n",
    "\n",
    "values = [' Film & Animation',' Music',' Pets & Animals',' Sports',' Short Movies',\n",
    "' Travel & Events',' Autos & Vehicles',' Gaming',' Videoblogging',' People & Blogs',\n",
    "' Comedy',' Entertainment',' News & Politics',' How-to & Style',' Education',\n",
    "' Science & Technology',' Non-profits & Activism',' Movies',' Anime/Animation',\n",
    "' Action/Adventure',' Classics',' Comedy',' Documentary',' Drama',' Family',' Foreign',\n",
    "' Horror',' Sci-Fi/Fantasy',' Thriller',' Shorts',' Shows',' Trailers']\n",
    "\n",
    "dfs['Category description'] = np.select(conditions, values, default='unknown')"
   ]
  },
  {
   "cell_type": "code",
   "execution_count": 8,
   "id": "67aadf6e-75cd-47f6-acd5-a608e4052215",
   "metadata": {},
   "outputs": [],
   "source": [
    "Addto = '20'\n",
    "dfs['trending_date'] = Addto + dfs['trending_date']"
   ]
  },
  {
   "cell_type": "code",
   "execution_count": 9,
   "id": "65e1fe08-5438-4b54-b0a8-047623f2f71d",
   "metadata": {
    "tags": []
   },
   "outputs": [],
   "source": [
    "dfs[[\"Trending_year\",\"Trending_Day\",\"Trending_month\"]] = dfs['trending_date'].str.split('.', expand=True)\n",
    "\n",
    "#rearranging the trending date column\n",
    "dfs['Trending_date'] = dfs['Trending_year'] + '-' + dfs['Trending_month'] + '-' + dfs['Trending_Day']"
   ]
  },
  {
   "cell_type": "code",
   "execution_count": 10,
   "id": "7046116e-e144-4d35-a820-3071df9133a5",
   "metadata": {
    "tags": []
   },
   "outputs": [],
   "source": [
    "dfs[[\"Publish_Date\",\"Publish_Time\"]] = dfs['publish_time'].str.split('T', expand=True)"
   ]
  },
  {
   "cell_type": "code",
   "execution_count": 11,
   "id": "25d508bc-e6c1-44e8-b2fd-410405a1644d",
   "metadata": {
    "tags": []
   },
   "outputs": [],
   "source": [
    "dfs[[\"Publish_Time\",\"Publish_\"]] = dfs['Publish_Time'].str.split('.', expand=True)"
   ]
  },
  {
   "cell_type": "code",
   "execution_count": 12,
   "id": "431adc63-f5ab-46cc-a179-e2a07644ab91",
   "metadata": {
    "tags": []
   },
   "outputs": [],
   "source": [
    "#convert date column from strings to date data type\n",
    "dfs['Publish_Date'] = pd.to_datetime(dfs['Publish_Date'])\n",
    "dfs['Trending_date'] = pd.to_datetime(dfs['Trending_date'])"
   ]
  },
  {
   "cell_type": "code",
   "execution_count": 13,
   "id": "a87bdd2a-4665-4a15-a3a4-bffd9a6efd86",
   "metadata": {
    "tags": []
   },
   "outputs": [],
   "source": [
    "#dfs['Publish_Time'] = dfs['Publish_Time'].dt.time\n",
    "dfs['Publish_Time'] = dfs['Publish_Time'].astype(str).apply(lambda x: datetime.strptime(x, '%H:%M:%S').time())\n",
    "#dfs.info()"
   ]
  },
  {
   "cell_type": "code",
   "execution_count": 14,
   "id": "66246c29-d528-4a1a-8c42-5abec62a46ff",
   "metadata": {
    "tags": []
   },
   "outputs": [],
   "source": [
    "#Delete Columns\n",
    "dfs.drop(columns = ['tags','trending_date','description','Publish_', 'thumbnail_link', 'publish_time'], axis=1, inplace=True) "
   ]
  },
  {
   "cell_type": "code",
   "execution_count": 15,
   "id": "ca237384-b544-4d88-8fec-cc0bd0f6f421",
   "metadata": {},
   "outputs": [],
   "source": [
    "# Remove duplicate rows based on all columns\n",
    "dfs.drop_duplicates(inplace=True)"
   ]
  },
  {
   "cell_type": "code",
   "execution_count": 16,
   "id": "38a0a3cc-a522-458c-9034-2ac0d908ebf4",
   "metadata": {
    "tags": []
   },
   "outputs": [
    {
     "name": "stdout",
     "output_type": "stream",
     "text": [
      "<class 'pandas.core.frame.DataFrame'>\n",
      "Index: 363372 entries, 0 to 375941\n",
      "Data columns (total 19 columns):\n",
      " #   Column                  Non-Null Count   Dtype         \n",
      "---  ------                  --------------   -----         \n",
      " 0   video_id                363372 non-null  object        \n",
      " 1   title                   363372 non-null  object        \n",
      " 2   channel_title           363372 non-null  object        \n",
      " 3   category_id             363372 non-null  int64         \n",
      " 4   views                   363372 non-null  int64         \n",
      " 5   likes                   363372 non-null  int64         \n",
      " 6   dislikes                363372 non-null  int64         \n",
      " 7   comment_count           363372 non-null  int64         \n",
      " 8   comments_disabled       363372 non-null  bool          \n",
      " 9   ratings_disabled        363372 non-null  bool          \n",
      " 10  video_error_or_removed  363372 non-null  bool          \n",
      " 11  Country                 363372 non-null  object        \n",
      " 12  Category description    363372 non-null  object        \n",
      " 13  Trending_year           363372 non-null  object        \n",
      " 14  Trending_Day            363372 non-null  object        \n",
      " 15  Trending_month          363372 non-null  object        \n",
      " 16  Trending_date           363372 non-null  datetime64[ns]\n",
      " 17  Publish_Date            363372 non-null  datetime64[ns]\n",
      " 18  Publish_Time            363372 non-null  object        \n",
      "dtypes: bool(3), datetime64[ns](2), int64(5), object(9)\n",
      "memory usage: 48.2+ MB\n"
     ]
    }
   ],
   "source": [
    "dfs.info()"
   ]
  },
  {
   "cell_type": "code",
   "execution_count": 17,
   "id": "0bfe51cb-c380-423b-bf82-c1b8c50d0423",
   "metadata": {
    "tags": []
   },
   "outputs": [
    {
     "data": {
      "text/html": [
       "<div>\n",
       "<style scoped>\n",
       "    .dataframe tbody tr th:only-of-type {\n",
       "        vertical-align: middle;\n",
       "    }\n",
       "\n",
       "    .dataframe tbody tr th {\n",
       "        vertical-align: top;\n",
       "    }\n",
       "\n",
       "    .dataframe thead th {\n",
       "        text-align: right;\n",
       "    }\n",
       "</style>\n",
       "<table border=\"1\" class=\"dataframe\">\n",
       "  <thead>\n",
       "    <tr style=\"text-align: right;\">\n",
       "      <th></th>\n",
       "      <th>video_id</th>\n",
       "      <th>title</th>\n",
       "      <th>channel_title</th>\n",
       "      <th>category_id</th>\n",
       "      <th>views</th>\n",
       "      <th>likes</th>\n",
       "      <th>dislikes</th>\n",
       "      <th>comment_count</th>\n",
       "      <th>comments_disabled</th>\n",
       "      <th>ratings_disabled</th>\n",
       "      <th>video_error_or_removed</th>\n",
       "      <th>Country</th>\n",
       "      <th>Category description</th>\n",
       "      <th>Trending_year</th>\n",
       "      <th>Trending_Day</th>\n",
       "      <th>Trending_month</th>\n",
       "      <th>Trending_date</th>\n",
       "      <th>Publish_Date</th>\n",
       "      <th>Publish_Time</th>\n",
       "    </tr>\n",
       "  </thead>\n",
       "  <tbody>\n",
       "    <tr>\n",
       "      <th>0</th>\n",
       "      <td>n1WpP7iowLc</td>\n",
       "      <td>Eminem - Walk On Water (Audio) ft. BeyoncÃ©</td>\n",
       "      <td>EminemVEVO</td>\n",
       "      <td>10</td>\n",
       "      <td>17158579</td>\n",
       "      <td>787425</td>\n",
       "      <td>43420</td>\n",
       "      <td>125882</td>\n",
       "      <td>False</td>\n",
       "      <td>False</td>\n",
       "      <td>False</td>\n",
       "      <td>Canada</td>\n",
       "      <td>Music</td>\n",
       "      <td>2017</td>\n",
       "      <td>14</td>\n",
       "      <td>11</td>\n",
       "      <td>2017-11-14</td>\n",
       "      <td>2017-11-10</td>\n",
       "      <td>17:00:03</td>\n",
       "    </tr>\n",
       "    <tr>\n",
       "      <th>1</th>\n",
       "      <td>0dBIkQ4Mz1M</td>\n",
       "      <td>PLUSH - Bad Unboxing Fan Mail</td>\n",
       "      <td>iDubbbzTV</td>\n",
       "      <td>23</td>\n",
       "      <td>1014651</td>\n",
       "      <td>127794</td>\n",
       "      <td>1688</td>\n",
       "      <td>13030</td>\n",
       "      <td>False</td>\n",
       "      <td>False</td>\n",
       "      <td>False</td>\n",
       "      <td>Canada</td>\n",
       "      <td>Comedy</td>\n",
       "      <td>2017</td>\n",
       "      <td>14</td>\n",
       "      <td>11</td>\n",
       "      <td>2017-11-14</td>\n",
       "      <td>2017-11-13</td>\n",
       "      <td>17:00:00</td>\n",
       "    </tr>\n",
       "    <tr>\n",
       "      <th>2</th>\n",
       "      <td>5qpjK5DgCt4</td>\n",
       "      <td>Racist Superman | Rudy Mancuso, King Bach &amp; Le...</td>\n",
       "      <td>Rudy Mancuso</td>\n",
       "      <td>23</td>\n",
       "      <td>3191434</td>\n",
       "      <td>146035</td>\n",
       "      <td>5339</td>\n",
       "      <td>8181</td>\n",
       "      <td>False</td>\n",
       "      <td>False</td>\n",
       "      <td>False</td>\n",
       "      <td>Canada</td>\n",
       "      <td>Comedy</td>\n",
       "      <td>2017</td>\n",
       "      <td>14</td>\n",
       "      <td>11</td>\n",
       "      <td>2017-11-14</td>\n",
       "      <td>2017-11-12</td>\n",
       "      <td>19:05:24</td>\n",
       "    </tr>\n",
       "    <tr>\n",
       "      <th>3</th>\n",
       "      <td>d380meD0W0M</td>\n",
       "      <td>I Dare You: GOING BALD!?</td>\n",
       "      <td>nigahiga</td>\n",
       "      <td>24</td>\n",
       "      <td>2095828</td>\n",
       "      <td>132239</td>\n",
       "      <td>1989</td>\n",
       "      <td>17518</td>\n",
       "      <td>False</td>\n",
       "      <td>False</td>\n",
       "      <td>False</td>\n",
       "      <td>Canada</td>\n",
       "      <td>Entertainment</td>\n",
       "      <td>2017</td>\n",
       "      <td>14</td>\n",
       "      <td>11</td>\n",
       "      <td>2017-11-14</td>\n",
       "      <td>2017-11-12</td>\n",
       "      <td>18:01:41</td>\n",
       "    </tr>\n",
       "    <tr>\n",
       "      <th>4</th>\n",
       "      <td>2Vv-BfVoq4g</td>\n",
       "      <td>Ed Sheeran - Perfect (Official Music Video)</td>\n",
       "      <td>Ed Sheeran</td>\n",
       "      <td>10</td>\n",
       "      <td>33523622</td>\n",
       "      <td>1634130</td>\n",
       "      <td>21082</td>\n",
       "      <td>85067</td>\n",
       "      <td>False</td>\n",
       "      <td>False</td>\n",
       "      <td>False</td>\n",
       "      <td>Canada</td>\n",
       "      <td>Music</td>\n",
       "      <td>2017</td>\n",
       "      <td>14</td>\n",
       "      <td>11</td>\n",
       "      <td>2017-11-14</td>\n",
       "      <td>2017-11-09</td>\n",
       "      <td>11:04:14</td>\n",
       "    </tr>\n",
       "  </tbody>\n",
       "</table>\n",
       "</div>"
      ],
      "text/plain": [
       "      video_id                                              title  \\\n",
       "0  n1WpP7iowLc        Eminem - Walk On Water (Audio) ft. BeyoncÃ©   \n",
       "1  0dBIkQ4Mz1M                      PLUSH - Bad Unboxing Fan Mail   \n",
       "2  5qpjK5DgCt4  Racist Superman | Rudy Mancuso, King Bach & Le...   \n",
       "3  d380meD0W0M                           I Dare You: GOING BALD!?   \n",
       "4  2Vv-BfVoq4g        Ed Sheeran - Perfect (Official Music Video)   \n",
       "\n",
       "  channel_title  category_id     views    likes  dislikes  comment_count  \\\n",
       "0    EminemVEVO           10  17158579   787425     43420         125882   \n",
       "1     iDubbbzTV           23   1014651   127794      1688          13030   \n",
       "2  Rudy Mancuso           23   3191434   146035      5339           8181   \n",
       "3      nigahiga           24   2095828   132239      1989          17518   \n",
       "4    Ed Sheeran           10  33523622  1634130     21082          85067   \n",
       "\n",
       "   comments_disabled  ratings_disabled  video_error_or_removed Country  \\\n",
       "0              False             False                   False  Canada   \n",
       "1              False             False                   False  Canada   \n",
       "2              False             False                   False  Canada   \n",
       "3              False             False                   False  Canada   \n",
       "4              False             False                   False  Canada   \n",
       "\n",
       "  Category description Trending_year Trending_Day Trending_month  \\\n",
       "0                Music          2017           14             11   \n",
       "1               Comedy          2017           14             11   \n",
       "2               Comedy          2017           14             11   \n",
       "3        Entertainment          2017           14             11   \n",
       "4                Music          2017           14             11   \n",
       "\n",
       "  Trending_date Publish_Date Publish_Time  \n",
       "0    2017-11-14   2017-11-10     17:00:03  \n",
       "1    2017-11-14   2017-11-13     17:00:00  \n",
       "2    2017-11-14   2017-11-12     19:05:24  \n",
       "3    2017-11-14   2017-11-12     18:01:41  \n",
       "4    2017-11-14   2017-11-09     11:04:14  "
      ]
     },
     "execution_count": 17,
     "metadata": {},
     "output_type": "execute_result"
    }
   ],
   "source": [
    "dfs.head()"
   ]
  },
  {
   "cell_type": "code",
   "execution_count": null,
   "id": "957e02fe-fcef-4924-95e5-6cfe2f48a38a",
   "metadata": {},
   "outputs": [],
   "source": []
  }
 ],
 "metadata": {
  "kernelspec": {
   "display_name": "Python 3 (ipykernel)",
   "language": "python",
   "name": "python3"
  },
  "language_info": {
   "codemirror_mode": {
    "name": "ipython",
    "version": 3
   },
   "file_extension": ".py",
   "mimetype": "text/x-python",
   "name": "python",
   "nbconvert_exporter": "python",
   "pygments_lexer": "ipython3",
   "version": "3.11.4"
  }
 },
 "nbformat": 4,
 "nbformat_minor": 5
}
