{
 "cells": [
  {
   "cell_type": "code",
   "execution_count": null,
   "id": "0a7f8d00",
   "metadata": {},
   "outputs": [],
   "source": [
    "import requests\n",
    "import pandas as pd\n",
    "\n",
    "url = \"https://covid-193.p.rapidapi.com/statistics\"\n",
    "\n",
    "headers = {\n",
    "\t\"X-RapidAPI-Key\": \"d676a2844emsh62b86dd14d22f62p1be05fjsnae94af9aaeda\",\n",
    "\t\"X-RapidAPI-Host\": \"covid-193.p.rapidapi.com\"\n",
    "}\n",
    "\n",
    "response = requests.get(url, headers=headers)\n",
    "\n",
    "data = response.json()\n",
    "\n",
    "# Extract the statistics data\n",
    "#Here, we're checking if there's a part in the decoded message called 'response' and if it's not empty. \n",
    "#If it's there and has some information, we take that information and call it statistics.\n",
    "if 'response' in data and data['response']:\n",
    "    statistics = data['response']\n",
    "    \n",
    "    # Create DataFrame\n",
    "    df = pd.DataFrame(statistics)\n",
    "    \n",
    "    # Display DataFrame or perform further operations\n",
    "    #print(df)\n",
    "#else:\n",
    " #   print(\"No data found.\")\n",
    "\n",
    "    "
   ]
  },
  {
   "cell_type": "code",
   "execution_count": null,
   "id": "bb738b4a",
   "metadata": {},
   "outputs": [],
   "source": [
    "df"
   ]
  },
  {
   "cell_type": "code",
   "execution_count": null,
   "id": "2ec8c337",
   "metadata": {},
   "outputs": [],
   "source": [
    "#Data Cleaning"
   ]
  },
  {
   "cell_type": "code",
   "execution_count": null,
   "id": "c059006c",
   "metadata": {},
   "outputs": [],
   "source": [
    "#Extract only the time\n",
    "df[\"Time\"] = df[\"time\"].str.split(\"T\").str[1]\n",
    "df[\"Time\"]= df[\"Time\"].str.split(\"+\").str[0]\n",
    "df.shape\n",
    "df.info()#This would show some columns have null\n",
    "df.head()"
   ]
  },
  {
   "cell_type": "code",
   "execution_count": null,
   "id": "54679ce3",
   "metadata": {},
   "outputs": [],
   "source": [
    "#df['Time'] = pd.to_datetime(df['Time'])\n",
    "df.info()"
   ]
  },
  {
   "cell_type": "code",
   "execution_count": null,
   "id": "ceb5b6db",
   "metadata": {},
   "outputs": [],
   "source": [
    "#Changing time column to date and time, expanding them in two columns respectively\n",
    "#df[\"Date\"] = df.Time.dt.date\n",
    "#df[\"Time\"] = df.Time.dt.time"
   ]
  },
  {
   "cell_type": "code",
   "execution_count": null,
   "id": "ccfd1a3e",
   "metadata": {},
   "outputs": [],
   "source": [
    "#Drop the the time column cause it's no longer needed\n",
    "df.drop(columns = [\"time\"],inplace = True)"
   ]
  },
  {
   "cell_type": "code",
   "execution_count": null,
   "id": "8b0ed2a1",
   "metadata": {},
   "outputs": [],
   "source": [
    "pd.DataFrame(df['cases'])\n",
    "df['cases'].apply(pd.Series)\n",
    "additinal_columns = ['New Cases', 'Active Cases', 'Critical Cases', 'Recovered Cases', 'Cases per 1M Population', 'Total Cases']\n",
    "df[additinal_columns[0:6]] = df['cases'].apply(pd.Series)\n"
   ]
  },
  {
   "cell_type": "code",
   "execution_count": null,
   "id": "e43e328a",
   "metadata": {},
   "outputs": [],
   "source": [
    "pd.DataFrame(df['deaths'])\n",
    "df['deaths'].apply(pd.Series)\n",
    "additinal_columns_d = ['New deaths',  'deaths per 1M Population', 'Total deaths']\n",
    "df[additinal_columns_d[0:3]] = df['deaths'].apply(pd.Series)\n"
   ]
  },
  {
   "cell_type": "code",
   "execution_count": null,
   "id": "23f6d3af",
   "metadata": {},
   "outputs": [],
   "source": [
    "pd.DataFrame(df['tests'])\n",
    "df['tests'].apply(pd.Series)\n",
    "additinal_columns_d = ['tests per 1M Population', 'Total tests']\n",
    "df[additinal_columns_d[0:3]] = df['tests'].apply(pd.Series)\n"
   ]
  },
  {
   "cell_type": "code",
   "execution_count": null,
   "id": "0d52243f",
   "metadata": {},
   "outputs": [],
   "source": [
    "#Drop the the time column cause it's no longer needed\n",
    "df.drop(columns = [\"cases\",\"deaths\",\"tests\"],inplace = True)"
   ]
  },
  {
   "cell_type": "code",
   "execution_count": null,
   "id": "3e29164b",
   "metadata": {},
   "outputs": [],
   "source": [
    "# Replace NaN values with 0 so as not to lose some vital info\n",
    "df.fillna(0, inplace=True)\n"
   ]
  },
  {
   "cell_type": "code",
   "execution_count": null,
   "id": "1b0acd66",
   "metadata": {},
   "outputs": [],
   "source": [
    "df['Cases per 1M Population'] = df['Cases per 1M Population'].astype(float)\n",
    "df['deaths per 1M Population'] = df['deaths per 1M Population'].astype(float)\n",
    "df['New deaths'] = df['New deaths'].astype(float)\n",
    "df['tests per 1M Population'] = df['tests per 1M Population'].astype(float)"
   ]
  },
  {
   "cell_type": "code",
   "execution_count": null,
   "id": "6fd93584",
   "metadata": {},
   "outputs": [],
   "source": [
    "df.info()\n",
    "df"
   ]
  },
  {
   "cell_type": "code",
   "execution_count": null,
   "id": "85db2c71",
   "metadata": {},
   "outputs": [],
   "source": [
    "#pip install sqlalchemy psycopg2"
   ]
  },
  {
   "cell_type": "code",
   "execution_count": null,
   "id": "1fb20807",
   "metadata": {},
   "outputs": [],
   "source": [
    "import psycopg2\n",
    "\n",
    "# Connect to your PostgreSQL database\n",
    "conn = psycopg2.connect(\n",
    "    dbname=\"--\",\n",
    "    user=\"--\",\n",
    "    password='--', \n",
    "    host='--', \n",
    "    port= '--'\n",
    ")\n",
    "\n",
    "# Create a cursor object to execute SQL commands\n",
    "cur = conn.cursor()\n",
    "\n",
    "# Define the SQL statement to create a table\n",
    "create_table_query = '''\n",
    "CREATE TABLE IF NOT EXISTS Covid19_Data (\n",
    "    continent VARCHAR(50),\n",
    "    country VARCHAR(50),\n",
    "    population VARCHAR(50),\n",
    "    Time TIME,\n",
    "    Date DATE,\n",
    "    NewCases INTEGER,\n",
    "    ActiveCases INTEGER,\n",
    "    CriticalCases INTEGER,\n",
    "    RecoveredCases INTEGER,\n",
    "    CasesperMPopulation INTEGER,\n",
    "    TotalCases INTEGER,\n",
    "    Newdeaths INTEGER,\n",
    "    deathsperMPopulation INTEGER,\n",
    "    Totaldeaths INTEGER,\n",
    "    testsperMPopulation INTEGER,\n",
    "    Totaltests INTEGER\n",
    ");\n",
    "\n",
    "'''\n",
    "\n",
    "# Execute the SQL command to create the table\n",
    "cur.execute(create_table_query)\n",
    "\n",
    "# Commit the transaction\n",
    "conn.commit()\n",
    "\n",
    "# Close the cursor and connection\n",
    "cur.close()\n",
    "conn.close()\n",
    "\n",
    "print(\"Table created successfully!\")\n"
   ]
  },
  {
   "cell_type": "code",
   "execution_count": null,
   "id": "7f683d37",
   "metadata": {},
   "outputs": [],
   "source": [
    "import pandas as pd\n",
    "from sqlalchemy import create_engine\n",
    "\n",
    "# Assuming you have a DataFrame named df with your data\n",
    "\n",
    "# Define your PostgreSQL connection parameters\n",
    "username = '--'\n",
    "password = '--'\n",
    "host = '--'\n",
    "port = '--'\n",
    "database = 'PersonalProjects_DB'\n",
    "\n",
    "# Create a SQLAlchemy engine to connect to your PostgreSQL database\n",
    "engine = create_engine(f'postgresql://{username}:{password}@{host}:{port}/{database}')\n",
    "\n",
    "# Push the data from the DataFrame into the PostgreSQL table\n",
    "df.to_sql('Covid19_Data', con=engine, if_exists='append',index=False)\n"
   ]
  },
  {
   "cell_type": "code",
   "execution_count": null,
   "id": "3110c850",
   "metadata": {},
   "outputs": [],
   "source": []
  }
 ],
 "metadata": {
  "kernelspec": {
   "display_name": "Python 3 (ipykernel)",
   "language": "python",
   "name": "python3"
  },
  "language_info": {
   "codemirror_mode": {
    "name": "ipython",
    "version": 3
   },
   "file_extension": ".py",
   "mimetype": "text/x-python",
   "name": "python",
   "nbconvert_exporter": "python",
   "pygments_lexer": "ipython3",
   "version": "3.9.13"
  }
 },
 "nbformat": 4,
 "nbformat_minor": 5
}
